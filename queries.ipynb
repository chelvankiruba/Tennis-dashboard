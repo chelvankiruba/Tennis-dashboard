{
 "cells": [
  {
   "cell_type": "code",
   "execution_count": null,
   "id": "46d63ed0",
   "metadata": {},
   "outputs": [],
   "source": [
    "! pip install tabulate"
   ]
  },
  {
   "cell_type": "code",
   "execution_count": 36,
   "id": "2c6d1546",
   "metadata": {},
   "outputs": [],
   "source": [
    "import pymysql\n",
    "import math\n",
    "\n",
    "connection = pymysql.connect(\n",
    "    host = \"localhost\",\n",
    "    user = \"root\",\n",
    "    password = \"\",\n",
    "    database=\"tennis_db\"\n",
    "\n",
    ")\n",
    "\n",
    "mycursor = connection.cursor()\n"
   ]
  },
  {
   "cell_type": "code",
   "execution_count": 3,
   "id": "fb3b8e25",
   "metadata": {},
   "outputs": [],
   "source": [
    "from tabulate import tabulate"
   ]
  },
  {
   "cell_type": "code",
   "execution_count": null,
   "id": "e629f1da",
   "metadata": {},
   "outputs": [],
   "source": [
    "#List all competitions along with their category name\n",
    "\n",
    "mycursor.execute(\"select competitions.competition_name,categories.category_name from competitions INNER JOIN categories ON competitions.category_id = categories.category_id\")\n",
    "connection.commit()\n",
    "out=mycursor.fetchall()\n",
    "print(tabulate(out, headers=[i[0] for i in mycursor.description],  tablefmt='psql'))"
   ]
  },
  {
   "cell_type": "code",
   "execution_count": null,
   "id": "8f0cd07e",
   "metadata": {},
   "outputs": [],
   "source": [
    "#Count the number of competitions in each category\n",
    "\n",
    "mycursor.execute(\"select categories.category_name, count(competitions.competition_name) AS CompetitionsCount from competitions LEFT JOIN categories ON competitions.category_id = categories.category_id GROUP BY categories.category_name\")\n",
    "connection.commit()\n",
    "out=mycursor.fetchall()\n",
    "print(tabulate(out, headers=[i[0] for i in mycursor.description],  tablefmt='psql'))"
   ]
  },
  {
   "cell_type": "code",
   "execution_count": null,
   "id": "10aedded",
   "metadata": {},
   "outputs": [],
   "source": [
    "#Find all competitions of type 'doubles'\n",
    "\n",
    "mycursor.execute(\"select competition_name,type from competitions where type = 'doubles'\")\n",
    "connection.commit()\n",
    "out=mycursor.fetchall()\n",
    "print(tabulate(out, headers=[i[0] for i in mycursor.description],  tablefmt='psql'))"
   ]
  },
  {
   "cell_type": "code",
   "execution_count": null,
   "id": "b88610b7",
   "metadata": {},
   "outputs": [],
   "source": [
    "#Get competitions that belong to a specific category (e.g., ITF Men)\n",
    "\n",
    "mycursor.execute(\"select categories.category_name, competitions.competition_name from competitions LEFT JOIN categories ON competitions.category_id = categories.category_id where categories.category_name='ITF Men'\")\n",
    "connection.commit()\n",
    "out=mycursor.fetchall()\n",
    "print(tabulate(out, headers=[i[0] for i in mycursor.description],  tablefmt='psql'))"
   ]
  },
  {
   "cell_type": "code",
   "execution_count": null,
   "id": "960377cd",
   "metadata": {},
   "outputs": [],
   "source": [
    "#Identify parent competitions and their sub-competitions\n",
    "\n",
    "mycursor.execute(\"select p.parent_id, GROUP_CONCAT(p.competition_id SEPARATOR ', ') AS child_competition_id from competitions p where p.parent_id != '' group by p.parent_id;\")\n",
    "connection.commit()\n",
    "out=mycursor.fetchall()\n",
    "print(tabulate(out, headers=[i[0] for i in mycursor.description],  tablefmt='psql'))"
   ]
  },
  {
   "cell_type": "code",
   "execution_count": null,
   "id": "e3f08f96",
   "metadata": {},
   "outputs": [],
   "source": [
    "#Analyze the distribution of competition types by category - Need to be clarified\n",
    "\n",
    "mycursor.execute(\"select categories.category_name, competitions.type,competitions.competition_name from competitions LEFT JOIN categories ON competitions.category_id = categories.category_id ORDER BY categories.category_name\")\n",
    "connection.commit()\n",
    "out=mycursor.fetchall()\n",
    "print(tabulate(out, headers=[i[0] for i in mycursor.description],  tablefmt='psql'))"
   ]
  },
  {
   "cell_type": "code",
   "execution_count": null,
   "id": "7d23cccd",
   "metadata": {},
   "outputs": [],
   "source": [
    "#List all competitions with no parent (top-level competitions)\n",
    "\n",
    "mycursor.execute(\"SELECT * FROM competitions WHERE parent_id = ''\")\n",
    "connection.commit()\n",
    "out=mycursor.fetchall()\n",
    "print(tabulate(out, headers=[i[0] for i in mycursor.description],  tablefmt='psql'))"
   ]
  },
  {
   "cell_type": "code",
   "execution_count": null,
   "id": "fa71967b",
   "metadata": {},
   "outputs": [],
   "source": [
    "#List all venues along with their associated complex name\n",
    "\n",
    "mycursor.execute(\"select venues.venue_name, complexes.complex_name from venues LEFT JOIN complexes ON venues.complex_id = complexes.complex_id ORDER BY venues.venue_name\")\n",
    "connection.commit()\n",
    "out=mycursor.fetchall()\n",
    "print(tabulate(out, headers=[i[0] for i in mycursor.description],  tablefmt='psql'))"
   ]
  },
  {
   "cell_type": "code",
   "execution_count": null,
   "id": "e6ab4cf6",
   "metadata": {},
   "outputs": [],
   "source": [
    "#Count the number of venues in each complex\n",
    "\n",
    "mycursor.execute(\"select complexes.complex_name, count(venues.venue_name) AS VenueCount from complexes LEFT JOIN venues ON venues.complex_id = complexes.complex_id GROUP BY complexes.complex_name\")\n",
    "connection.commit()\n",
    "out=mycursor.fetchall()\n",
    "print(tabulate(out, headers=[i[0] for i in mycursor.description],  tablefmt='psql'))"
   ]
  },
  {
   "cell_type": "code",
   "execution_count": null,
   "id": "d2d2b30a",
   "metadata": {},
   "outputs": [],
   "source": [
    "#Get details of venues in a specific country (e.g., Chile)\n",
    "\n",
    "mycursor.execute(\"select complexes.complex_name,venues.venue_name,venues.city_name,venues.country_name from venues LEFT JOIN complexes ON venues.complex_id = complexes.complex_id where venues.country_name='Chile'\")\n",
    "connection.commit()\n",
    "out=mycursor.fetchall()\n",
    "print(tabulate(out, headers=[i[0] for i in mycursor.description],  tablefmt='psql'))"
   ]
  },
  {
   "cell_type": "code",
   "execution_count": null,
   "id": "cacf4666",
   "metadata": {},
   "outputs": [],
   "source": [
    "#Identify all venues and their timezones\n",
    "\n",
    "mycursor.execute(\"select venue_name, city_name, country_name,timezone from venues ORDER BY country_name ASC\")\n",
    "connection.commit()\n",
    "out=mycursor.fetchall()\n",
    "print(tabulate(out, headers=[i[0] for i in mycursor.description],  tablefmt='psql'))"
   ]
  },
  {
   "cell_type": "code",
   "execution_count": null,
   "id": "8a0d729b",
   "metadata": {},
   "outputs": [],
   "source": [
    "#Find complexes that have more than one venue\n",
    "\n",
    "# mycursor.execute(\"select complexes.complex_name,venues.venue_name from venues LEFT JOIN complexes ON venues.complex_id = complexes.complex_id ORDER BY complexes.complex_name DESC\")\n",
    "mycursor.execute(\"select cmp.complex_name,count(venues.venue_name) as venues_count from complexes cmp LEFT JOIN venues ON venues.complex_id = cmp.complex_id where (select count(venues.venue_name) as venues_count from complexes LEFT JOIN venues ON venues.complex_id = complexes.complex_id where complexes.complex_id = cmp.complex_id group by complexes.complex_name) > 1 group by cmp.complex_name order by venues_count desc\")\n",
    "connection.commit()\n",
    "out=mycursor.fetchall()\n",
    "print(tabulate(out, headers=[i[0] for i in mycursor.description],  tablefmt='psql'))"
   ]
  },
  {
   "cell_type": "code",
   "execution_count": null,
   "id": "b21614b0",
   "metadata": {},
   "outputs": [],
   "source": [
    "#List venues grouped by country \n",
    "\n",
    "# mycursor.execute(\"select venue_name,country_name from venues group by country_name\")\n",
    "mycursor.execute(\"select country_name, GROUP_CONCAT(venue_name SEPARATOR ',') as venues from venues group by country_name order by country_name\")\n",
    "connection.commit()\n",
    "out=mycursor.fetchall()\n",
    "print(tabulate(out, headers=[i[0] for i in mycursor.description],  tablefmt='psql'))"
   ]
  },
  {
   "cell_type": "code",
   "execution_count": null,
   "id": "292761ae",
   "metadata": {},
   "outputs": [],
   "source": [
    "#Find all venues for a specific complex (e.g., Nacional)\n",
    "\n",
    "mycursor.execute(\"SELECT complexes.complex_name,venues.venue_name from complexes LEFT JOIN venues ON venues.complex_id = complexes.complex_id WHERE complexes.complex_name='Nacional'\")\n",
    "connection.commit()\n",
    "out=mycursor.fetchall()\n",
    "print(tabulate(out, headers=[i[0] for i in mycursor.description],  tablefmt='psql'))"
   ]
  },
  {
   "cell_type": "code",
   "execution_count": null,
   "id": "0d8a498b",
   "metadata": {},
   "outputs": [],
   "source": [
    "#Get all competitors with their rank and points.\n",
    "\n",
    "mycursor.execute(\"SELECT competitors.name,competitor_rankings.rank,competitor_rankings.points from competitor_rankings LEFT JOIN competitors ON competitors.competitor_id = competitor_rankings.competitor_id\")\n",
    "connection.commit()\n",
    "out=mycursor.fetchall()\n",
    "print(tabulate(out, headers=[i[0] for i in mycursor.description],  tablefmt='psql'))"
   ]
  },
  {
   "cell_type": "code",
   "execution_count": null,
   "id": "242b66a0",
   "metadata": {},
   "outputs": [],
   "source": [
    "#Find competitors ranked in the top 5 -- need to clarified - query is based on rank only or points also to be considered.\n",
    "\n",
    "mycursor.execute(\"SELECT competitors.name,competitor_rankings.rank,competitor_rankings.points from competitors JOIN competitor_rankings ON competitors.competitor_id = competitor_rankings.competitor_id where competitor_rankings.rank < 6 order by competitor_rankings.rank ASC\")\n",
    "connection.commit()\n",
    "out=mycursor.fetchall()\n",
    "print(tabulate(out, headers=[i[0] for i in mycursor.description],  tablefmt='psql'))"
   ]
  },
  {
   "cell_type": "code",
   "execution_count": null,
   "id": "63d9117f",
   "metadata": {},
   "outputs": [],
   "source": [
    "#List competitors with no rank movement (stable rank)\n",
    "\n",
    "mycursor.execute(\"SELECT c.name, cr.movement FROM competitor_rankings cr join competitors c on c.competitor_id = cr.competitor_id WHERE movement = 0\")\n",
    "connection.commit()\n",
    "out=mycursor.fetchall()\n",
    "print(tabulate(out, headers=[i[0] for i in mycursor.description],  tablefmt='psql'))"
   ]
  },
  {
   "cell_type": "code",
   "execution_count": null,
   "id": "5c246d8d",
   "metadata": {},
   "outputs": [],
   "source": [
    "#Get the total points of competitors from a specific country (e.g., Croatia)\n",
    "\n",
    "mycursor.execute(\"SELECT competitors.country,count(competitors.name) AS Headcount, sum(competitor_rankings.points) AS TotalPoint from competitors JOIN competitor_rankings ON competitors.competitor_id = competitor_rankings.competitor_id where competitors.country ='Argentina'\")\n",
    "connection.commit()\n",
    "out=mycursor.fetchall()\n",
    "print(tabulate(out, headers=[i[0] for i in mycursor.description],  tablefmt='psql'))"
   ]
  },
  {
   "cell_type": "code",
   "execution_count": null,
   "id": "ccd43923",
   "metadata": {},
   "outputs": [],
   "source": [
    "#Count the number of competitors per country\n",
    "\n",
    "mycursor.execute(\"SELECT country,count(*) AS Number from competitors group by country order by country ASC\")\n",
    "connection.commit()\n",
    "out=mycursor.fetchall()\n",
    "print(tabulate(out, headers=[i[0] for i in mycursor.description],  tablefmt='psql'))"
   ]
  },
  {
   "cell_type": "code",
   "execution_count": null,
   "id": "4717a979",
   "metadata": {},
   "outputs": [],
   "source": [
    "#Find competitors with the highest points in the current week -- need to check\n",
    "\n",
    "mycursor.execute(\"SELECT competitors.name,competitor_rankings.week, competitor_rankings.points from competitors INNER JOIN competitor_rankings ON competitors.competitor_id = competitor_rankings.competitor_id where points = (select MAX(competitor_rankings.points) from competitor_rankings)\")\n",
    "connection.commit()\n",
    "out=mycursor.fetchall()\n",
    "print(tabulate(out, headers=[i[0] for i in mycursor.description],  tablefmt='psql'))"
   ]
  },
  {
   "cell_type": "code",
   "execution_count": null,
   "id": "47c5b350",
   "metadata": {},
   "outputs": [],
   "source": [
    "mycursor.close()\n",
    "connection.close()"
   ]
  }
 ],
 "metadata": {
  "kernelspec": {
   "display_name": "Python 3",
   "language": "python",
   "name": "python3"
  },
  "language_info": {
   "codemirror_mode": {
    "name": "ipython",
    "version": 3
   },
   "file_extension": ".py",
   "mimetype": "text/x-python",
   "name": "python",
   "nbconvert_exporter": "python",
   "pygments_lexer": "ipython3",
   "version": "3.13.2"
  }
 },
 "nbformat": 4,
 "nbformat_minor": 5
}
